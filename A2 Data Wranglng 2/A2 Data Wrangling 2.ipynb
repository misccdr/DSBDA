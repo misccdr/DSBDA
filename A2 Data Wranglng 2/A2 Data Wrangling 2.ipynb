{
 "cells": [
  {
   "cell_type": "code",
   "execution_count": 1,
   "id": "774c47cd",
   "metadata": {},
   "outputs": [],
   "source": [
    "import numpy as np\n",
    "import pandas as pd\n",
    "import matplotlib.pyplot as plt\n",
    "import seaborn as sns"
   ]
  },
  {
   "cell_type": "code",
   "execution_count": 2,
   "id": "8c5b59ac",
   "metadata": {},
   "outputs": [],
   "source": [
    "data = {\n",
    "    'Student_ID': [1, 2, 3, 4, 5, 6, 7, 8, 9, 10],\n",
    "    'Age': [18, 19, 20, 17, 21, 19, 18, 20, 22, 18],\n",
    "    'Gender': ['M', 'F', 'M', 'F', 'M', 'Female', 'M', 'F', 'M', 'F'],\n",
    "    'Math_Score': [85, 92, 78, 88, 95, 82, 760, 90, np.nan, 87],\n",
    "    'Science_Score': [9, 88, 75, 83, 90, 185, 79, 91, 86, 94]\n",
    "}"
   ]
  },
  {
   "cell_type": "code",
   "execution_count": 3,
   "id": "d60999c6",
   "metadata": {},
   "outputs": [],
   "source": [
    "df = pd.DataFrame(data)"
   ]
  },
  {
   "cell_type": "code",
   "execution_count": 4,
   "id": "0592fb91",
   "metadata": {},
   "outputs": [
    {
     "data": {
      "text/html": [
       "<div>\n",
       "<style scoped>\n",
       "    .dataframe tbody tr th:only-of-type {\n",
       "        vertical-align: middle;\n",
       "    }\n",
       "\n",
       "    .dataframe tbody tr th {\n",
       "        vertical-align: top;\n",
       "    }\n",
       "\n",
       "    .dataframe thead th {\n",
       "        text-align: right;\n",
       "    }\n",
       "</style>\n",
       "<table border=\"1\" class=\"dataframe\">\n",
       "  <thead>\n",
       "    <tr style=\"text-align: right;\">\n",
       "      <th></th>\n",
       "      <th>Student_ID</th>\n",
       "      <th>Age</th>\n",
       "      <th>Gender</th>\n",
       "      <th>Math_Score</th>\n",
       "      <th>Science_Score</th>\n",
       "    </tr>\n",
       "  </thead>\n",
       "  <tbody>\n",
       "    <tr>\n",
       "      <th>0</th>\n",
       "      <td>1</td>\n",
       "      <td>18</td>\n",
       "      <td>M</td>\n",
       "      <td>85.0</td>\n",
       "      <td>9</td>\n",
       "    </tr>\n",
       "    <tr>\n",
       "      <th>1</th>\n",
       "      <td>2</td>\n",
       "      <td>19</td>\n",
       "      <td>F</td>\n",
       "      <td>92.0</td>\n",
       "      <td>88</td>\n",
       "    </tr>\n",
       "    <tr>\n",
       "      <th>2</th>\n",
       "      <td>3</td>\n",
       "      <td>20</td>\n",
       "      <td>M</td>\n",
       "      <td>78.0</td>\n",
       "      <td>75</td>\n",
       "    </tr>\n",
       "    <tr>\n",
       "      <th>3</th>\n",
       "      <td>4</td>\n",
       "      <td>17</td>\n",
       "      <td>F</td>\n",
       "      <td>88.0</td>\n",
       "      <td>83</td>\n",
       "    </tr>\n",
       "    <tr>\n",
       "      <th>4</th>\n",
       "      <td>5</td>\n",
       "      <td>21</td>\n",
       "      <td>M</td>\n",
       "      <td>95.0</td>\n",
       "      <td>90</td>\n",
       "    </tr>\n",
       "  </tbody>\n",
       "</table>\n",
       "</div>"
      ],
      "text/plain": [
       "   Student_ID  Age Gender  Math_Score  Science_Score\n",
       "0           1   18      M        85.0              9\n",
       "1           2   19      F        92.0             88\n",
       "2           3   20      M        78.0             75\n",
       "3           4   17      F        88.0             83\n",
       "4           5   21      M        95.0             90"
      ]
     },
     "execution_count": 4,
     "metadata": {},
     "output_type": "execute_result"
    }
   ],
   "source": [
    "df.head()"
   ]
  },
  {
   "cell_type": "code",
   "execution_count": 5,
   "id": "0de71fd2",
   "metadata": {},
   "outputs": [
    {
     "data": {
      "text/plain": [
       "Student_ID       0\n",
       "Age              0\n",
       "Gender           0\n",
       "Math_Score       1\n",
       "Science_Score    0\n",
       "dtype: int64"
      ]
     },
     "execution_count": 5,
     "metadata": {},
     "output_type": "execute_result"
    }
   ],
   "source": [
    "df.isnull().sum()"
   ]
  },
  {
   "cell_type": "code",
   "execution_count": 6,
   "id": "b6cc23a1",
   "metadata": {},
   "outputs": [],
   "source": [
    "df['Math_Score'].fillna(df['Math_Score'].mean(), inplace=True)"
   ]
  },
  {
   "cell_type": "code",
   "execution_count": 7,
   "id": "c8428cfe",
   "metadata": {},
   "outputs": [
    {
     "name": "stdout",
     "output_type": "stream",
     "text": [
      "   Student_ID  Age  Gender  Math_Score  Science_Score\n",
      "0           1   18       M   85.000000              9\n",
      "1           2   19       F   92.000000             88\n",
      "2           3   20       M   78.000000             75\n",
      "3           4   17       F   88.000000             83\n",
      "4           5   21       M   95.000000             90\n",
      "5           6   19  Female   82.000000            185\n",
      "6           7   18       M  760.000000             79\n",
      "7           8   20       F   90.000000             91\n",
      "8           9   22       M  161.888889             86\n",
      "9          10   18       F   87.000000             94\n"
     ]
    }
   ],
   "source": [
    "print(df)"
   ]
  },
  {
   "cell_type": "code",
   "execution_count": 8,
   "id": "0526b308",
   "metadata": {},
   "outputs": [
    {
     "data": {
      "text/plain": [
       "Student_ID       0\n",
       "Age              0\n",
       "Gender           0\n",
       "Math_Score       0\n",
       "Science_Score    0\n",
       "dtype: int64"
      ]
     },
     "execution_count": 8,
     "metadata": {},
     "output_type": "execute_result"
    }
   ],
   "source": [
    "df.isnull().sum()"
   ]
  },
  {
   "cell_type": "code",
   "execution_count": 9,
   "id": "522c524a",
   "metadata": {},
   "outputs": [
    {
     "data": {
      "text/plain": [
       "array(['M', 'F', 'Female'], dtype=object)"
      ]
     },
     "execution_count": 9,
     "metadata": {},
     "output_type": "execute_result"
    }
   ],
   "source": [
    "df['Gender'].unique()"
   ]
  },
  {
   "cell_type": "code",
   "execution_count": 10,
   "id": "11d1de2e",
   "metadata": {},
   "outputs": [],
   "source": [
    "df['Gender'] = df['Gender'].map({'M':'M', 'Female':'F', 'F':'F'})"
   ]
  },
  {
   "cell_type": "code",
   "execution_count": 11,
   "id": "f784c58f",
   "metadata": {},
   "outputs": [
    {
     "data": {
      "text/plain": [
       "array(['M', 'F'], dtype=object)"
      ]
     },
     "execution_count": 11,
     "metadata": {},
     "output_type": "execute_result"
    }
   ],
   "source": [
    "df['Gender'].unique()"
   ]
  },
  {
   "cell_type": "code",
   "execution_count": 12,
   "id": "d0c6164f",
   "metadata": {},
   "outputs": [
    {
     "name": "stdout",
     "output_type": "stream",
     "text": [
      "   Student_ID  Age Gender  Math_Score  Science_Score\n",
      "0           1   18      M   85.000000              9\n",
      "1           2   19      F   92.000000             88\n",
      "2           3   20      M   78.000000             75\n",
      "3           4   17      F   88.000000             83\n",
      "4           5   21      M   95.000000             90\n",
      "5           6   19      F   82.000000            185\n",
      "6           7   18      M  760.000000             79\n",
      "7           8   20      F   90.000000             91\n",
      "8           9   22      M  161.888889             86\n",
      "9          10   18      F   87.000000             94\n"
     ]
    }
   ],
   "source": [
    "print(df)"
   ]
  },
  {
   "cell_type": "code",
   "execution_count": 13,
   "id": "82e67a2b",
   "metadata": {},
   "outputs": [
    {
     "data": {
      "text/plain": [
       "<Axes: >"
      ]
     },
     "execution_count": 13,
     "metadata": {},
     "output_type": "execute_result"
    },
    {
     "data": {
      "image/png": "[encoded data removed]",
      "text/plain": [
       "<Figure size 640x480 with 1 Axes>"
      ]
     },
     "metadata": {},
     "output_type": "display_data"
    }
   ],
   "source": [
    "sns.boxplot(data=df)"
   ]
  },
  {
   "cell_type": "code",
   "execution_count": 14,
   "id": "8532878e",
   "metadata": {},
   "outputs": [
    {
     "data": {
      "text/plain": [
       "{'whiskers': [<matplotlib.lines.Line2D at 0x21c724b0110>,\n",
       "  <matplotlib.lines.Line2D at 0x21c724b0dd0>],\n",
       " 'caps': [<matplotlib.lines.Line2D at 0x21c724b1950>,\n",
       "  <matplotlib.lines.Line2D at 0x21c724b2550>],\n",
       " 'boxes': [<matplotlib.lines.Line2D at 0x21c724a7450>],\n",
       " 'medians': [<matplotlib.lines.Line2D at 0x21c724b3090>],\n",
       " 'fliers': [<matplotlib.lines.Line2D at 0x21c724b3a90>],\n",
       " 'means': []}"
      ]
     },
     "execution_count": 14,
     "metadata": {},
     "output_type": "execute_result"
    },
    {
     "data": {
      "image/png": "[encoded data removed]",
      "text/plain": [
       "<Figure size 640x480 with 1 Axes>"
      ]
     },
     "metadata": {},
     "output_type": "display_data"
    }
   ],
   "source": [
    "plt.boxplot(df['Student_ID'])"
   ]
  },
  {
   "cell_type": "code",
   "execution_count": 15,
   "id": "87d14607",
   "metadata": {},
   "outputs": [
    {
     "data": {
      "text/plain": [
       "{'whiskers': [<matplotlib.lines.Line2D at 0x21c72511e90>,\n",
       "  <matplotlib.lines.Line2D at 0x21c72512b10>],\n",
       " 'caps': [<matplotlib.lines.Line2D at 0x21c725136d0>,\n",
       "  <matplotlib.lines.Line2D at 0x21c72528210>],\n",
       " 'boxes': [<matplotlib.lines.Line2D at 0x21c72511410>],\n",
       " 'medians': [<matplotlib.lines.Line2D at 0x21c72528c50>],\n",
       " 'fliers': [<matplotlib.lines.Line2D at 0x21c724e96d0>],\n",
       " 'means': []}"
      ]
     },
     "execution_count": 15,
     "metadata": {},
     "output_type": "execute_result"
    },
    {
     "data": {
      "image/png": "[encoded data removed]",
      "text/plain": [
       "<Figure size 640x480 with 1 Axes>"
      ]
     },
     "metadata": {},
     "output_type": "display_data"
    }
   ],
   "source": [
    "plt.boxplot(df['Age'])"
   ]
  },
  {
   "cell_type": "code",
   "execution_count": 16,
   "id": "8eebaa7a",
   "metadata": {},
   "outputs": [
    {
     "data": {
      "text/plain": [
       "{'whiskers': [<matplotlib.lines.Line2D at 0x21c725893d0>,\n",
       "  <matplotlib.lines.Line2D at 0x21c7258a090>],\n",
       " 'caps': [<matplotlib.lines.Line2D at 0x21c7258ad10>,\n",
       "  <matplotlib.lines.Line2D at 0x21c7258b810>],\n",
       " 'boxes': [<matplotlib.lines.Line2D at 0x21c72588690>],\n",
       " 'medians': [<matplotlib.lines.Line2D at 0x21c72590390>],\n",
       " 'fliers': [<matplotlib.lines.Line2D at 0x21c724b0d50>],\n",
       " 'means': []}"
      ]
     },
     "execution_count": 16,
     "metadata": {},
     "output_type": "execute_result"
    },
    {
     "data": {
      "image/png": "[encoded data removed]",
      "text/plain": [
       "<Figure size 640x480 with 1 Axes>"
      ]
     },
     "metadata": {},
     "output_type": "display_data"
    }
   ],
   "source": [
    "plt.boxplot(df['Math_Score'])"
   ]
  },
  {
   "cell_type": "code",
   "execution_count": 17,
   "id": "1c7ee8b0",
   "metadata": {},
   "outputs": [
    {
     "data": {
      "text/plain": [
       "{'whiskers': [<matplotlib.lines.Line2D at 0x21c7462b450>,\n",
       "  <matplotlib.lines.Line2D at 0x21c74634110>],\n",
       " 'caps': [<matplotlib.lines.Line2D at 0x21c74634d10>,\n",
       "  <matplotlib.lines.Line2D at 0x21c74635710>],\n",
       " 'boxes': [<matplotlib.lines.Line2D at 0x21c7462a850>],\n",
       " 'medians': [<matplotlib.lines.Line2D at 0x21c74636350>],\n",
       " 'fliers': [<matplotlib.lines.Line2D at 0x21c7242ed90>],\n",
       " 'means': []}"
      ]
     },
     "execution_count": 17,
     "metadata": {},
     "output_type": "execute_result"
    },
    {
     "data": {
      "image/png": "[encoded data removed]",
      "text/plain": [
       "<Figure size 640x480 with 1 Axes>"
      ]
     },
     "metadata": {},
     "output_type": "display_data"
    }
   ],
   "source": [
    "plt.boxplot(df['Science_Score'])"
   ]
  },
  {
   "cell_type": "code",
   "execution_count": 18,
   "id": "62222576",
   "metadata": {},
   "outputs": [
    {
     "name": "stdout",
     "output_type": "stream",
     "text": [
      "0      9\n",
      "1     88\n",
      "2     75\n",
      "3     83\n",
      "4     90\n",
      "5    185\n",
      "6     79\n",
      "7     91\n",
      "8     86\n",
      "9     94\n",
      "Name: Science_Score, dtype: int64\n"
     ]
    }
   ],
   "source": [
    "print(df['Science_Score'])"
   ]
  },
  {
   "cell_type": "code",
   "execution_count": 19,
   "id": "584a3f20",
   "metadata": {},
   "outputs": [],
   "source": [
    "Q1 = df['Science_Score'].quantile(0.25)\n",
    "Q3 = df['Science_Score'].quantile(0.75)\n",
    "IQR = Q3 - Q1\n",
    "lower_bound = Q1 - 1.5*IQR\n",
    "upper_bound = Q3 + 1.5*IQR\n",
    "outliers = df[(df['Science_Score'] < lower_bound) | (df['Science_Score'] > upper_bound)]\n",
    "df = df[(df['Science_Score'] >= lower_bound) & (df['Science_Score'] <= upper_bound)]"
   ]
  },
  {
   "cell_type": "code",
   "execution_count": 20,
   "id": "47734e5f",
   "metadata": {},
   "outputs": [
    {
     "name": "stdout",
     "output_type": "stream",
     "text": [
      "   Student_ID  Age Gender  Math_Score  Science_Score\n",
      "1         NaN  NaN    NaN         NaN            NaN\n",
      "2         NaN  NaN    NaN         NaN            NaN\n",
      "3         NaN  NaN    NaN         NaN            NaN\n",
      "4         NaN  NaN    NaN         NaN            NaN\n",
      "6         NaN  NaN    NaN         NaN            NaN\n",
      "7         NaN  NaN    NaN         NaN            NaN\n",
      "8         NaN  NaN    NaN         NaN            NaN\n",
      "9         NaN  NaN    NaN         NaN            NaN\n"
     ]
    }
   ],
   "source": [
    "print(df[outliers])"
   ]
  },
  {
   "cell_type": "code",
   "execution_count": 21,
   "id": "376e3805",
   "metadata": {},
   "outputs": [
    {
     "name": "stdout",
     "output_type": "stream",
     "text": [
      "1    88\n",
      "2    75\n",
      "3    83\n",
      "4    90\n",
      "6    79\n",
      "7    91\n",
      "8    86\n",
      "9    94\n",
      "Name: Science_Score, dtype: int64\n"
     ]
    }
   ],
   "source": [
    "print(df['Science_Score'])"
   ]
  },
  {
   "cell_type": "code",
   "execution_count": 22,
   "id": "a4d4d310",
   "metadata": {},
   "outputs": [
    {
     "name": "stdout",
     "output_type": "stream",
     "text": [
      "1     92.000000\n",
      "2     78.000000\n",
      "3     88.000000\n",
      "4     95.000000\n",
      "6    760.000000\n",
      "7     90.000000\n",
      "8    161.888889\n",
      "9     87.000000\n",
      "Name: Math_Score, dtype: float64\n"
     ]
    }
   ],
   "source": [
    "print(df['Math_Score'])"
   ]
  },
  {
   "cell_type": "code",
   "execution_count": 23,
   "id": "2940b94d",
   "metadata": {},
   "outputs": [
    {
     "name": "stdout",
     "output_type": "stream",
     "text": [
      "1    4.521789\n",
      "2    4.356709\n",
      "3    4.477337\n",
      "4    4.553877\n",
      "6    6.633318\n",
      "7    4.499810\n",
      "8    5.086910\n",
      "9    4.465908\n",
      "Name: Transformed_Math_Score, dtype: float64\n"
     ]
    }
   ],
   "source": [
    "df['Transformed_Math_Score'] = np.log(df['Math_Score'])\n",
    "print(df['Transformed_Math_Score'])"
   ]
  },
  {
   "cell_type": "code",
   "execution_count": 24,
   "id": "9a207c8e",
   "metadata": {},
   "outputs": [],
   "source": [
    "from sklearn.preprocessing import MinMaxScaler\n",
    "scaler = MinMaxScaler()\n",
    "df['Math_Score'] = scaler.fit_transform(df[['Math_Score']])"
   ]
  },
  {
   "cell_type": "code",
   "execution_count": 25,
   "id": "74b08e4f",
   "metadata": {},
   "outputs": [
    {
     "name": "stdout",
     "output_type": "stream",
     "text": [
      "1    0.020528\n",
      "2    0.000000\n",
      "3    0.014663\n",
      "4    0.024927\n",
      "6    1.000000\n",
      "7    0.017595\n",
      "8    0.123004\n",
      "9    0.013196\n",
      "Name: Math_Score, dtype: float64\n"
     ]
    }
   ],
   "source": [
    "print(df['Math_Score'])"
   ]
  },
  {
   "cell_type": "code",
   "execution_count": null,
   "id": "d13ccdf4",
   "metadata": {},
   "outputs": [],
   "source": []
  }
 ],
 "metadata": {
  "kernelspec": {
   "display_name": "Python 3 (ipykernel)",
   "language": "python",
   "name": "python3"
  },
  "language_info": {
   "codemirror_mode": {
    "name": "ipython",
    "version": 3
   },
   "file_extension": ".py",
   "mimetype": "text/x-python",
   "name": "python",
   "nbconvert_exporter": "python",
   "pygments_lexer": "ipython3",
   "version": "3.11.3"
  }
 },
 "nbformat": 4,
 "nbformat_minor": 5
}
